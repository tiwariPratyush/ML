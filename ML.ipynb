{
 "cells": [
  {
   "cell_type": "markdown",
   "metadata": {},
   "source": [
    "Types of Machine Learning \n",
    "\n",
    "1. Supervised learning\n",
    "1.1 regression and classification\n",
    "2. Unsupervised learning \n",
    "2.1 clustering , dimensionality reduction, anomaly detection, association\n",
    "3. semi-supervised\n",
    "4. Reinforcement"
   ]
  },
  {
   "cell_type": "code",
   "execution_count": null,
   "metadata": {
    "vscode": {
     "languageId": "plaintext"
    }
   },
   "outputs": [],
   "source": [
    "  "
   ]
  }
 ],
 "metadata": {
  "language_info": {
   "name": "python"
  }
 },
 "nbformat": 4,
 "nbformat_minor": 2
}
